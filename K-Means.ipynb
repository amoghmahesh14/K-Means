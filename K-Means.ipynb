{
 "cells": [
  {
   "cell_type": "code",
   "execution_count": 2,
   "metadata": {},
   "outputs": [],
   "source": [
    "from sklearn.datasets.samples_generator import make_blobs\n",
    "import matplotlib.pyplot as plt\n",
    "import numpy as np"
   ]
  },
  {
   "cell_type": "markdown",
   "metadata": {},
   "source": [
    "Let us generate and plot the dataset"
   ]
  },
  {
   "cell_type": "code",
   "execution_count": 29,
   "metadata": {},
   "outputs": [
    {
     "data": {
      "image/png": "[encoded data removed]",
      "text/plain": [
       "<Figure size 432x288 with 1 Axes>"
      ]
     },
     "metadata": {
      "needs_background": "light"
     },
     "output_type": "display_data"
    }
   ],
   "source": [
    "X,y = make_blobs(n_samples=200,centers=3,cluster_std=1,random_state=0)\n",
    "'''The above line is to generate the dataset of random co-ordinates with specified standard deviation'''\n",
    "plt.figure()\n",
    "plt.scatter(X[:,0],X[:,1],c='black')\n",
    "plt.show()\n",
    "#print(X)"
   ]
  },
  {
   "cell_type": "markdown",
   "metadata": {},
   "source": [
    "Let us use __Euclidean distance__ as a distance measure for our algorithm.</br>"
   ]
  },
  {
   "cell_type": "code",
   "execution_count": 17,
   "metadata": {},
   "outputs": [],
   "source": [
    "def computeDistance(x1,x2):\n",
    "    '''return the distance between the points x1 and x2'''\n",
    "    return np.sqrt(np.sum(np.power((x1-x2),2)))\n",
    "    "
   ]
  },
  {
   "cell_type": "code",
   "execution_count": 18,
   "metadata": {},
   "outputs": [
    {
     "name": "stdout",
     "output_type": "stream",
     "text": [
      "2.23606797749979\n"
     ]
    }
   ],
   "source": [
    "print(computeDistance(np.array([5,4]),np.array([3,3])))"
   ]
  },
  {
   "cell_type": "markdown",
   "metadata": {},
   "source": [
    "Now we will randomly initialize our centroids"
   ]
  },
  {
   "cell_type": "code",
   "execution_count": 19,
   "metadata": {},
   "outputs": [],
   "source": [
    "def randomInit(X,no_of_clusters,no_of_samples,nof):\n",
    "    '''This function should initialize the centroids to any random sample(co-ordinate). Return the centroids as a matrix\n",
    "    Note: The number of centroids to be randomly generated is no_of_clusters'''\n",
    "    centroids = []\n",
    "    for i in range(no_of_clusters):\n",
    "        temp = np.random.randint(0,no_of_samples)\n",
    "        tempcents = []\n",
    "        for j in range(nof):\n",
    "            tempcents.append(X[temp,j])\n",
    "        #tempcents=X[i,:]\n",
    "        centroids.append(tempcents)\n",
    "    centroids = np.matrix(centroids)\n",
    "    return centroids"
   ]
  },
  {
   "cell_type": "markdown",
   "metadata": {},
   "source": [
    "The below function should label/assign the given data sample to its nearest centroid determined by __Euclidean Distance__."
   ]
  },
  {
   "cell_type": "code",
   "execution_count": 20,
   "metadata": {},
   "outputs": [],
   "source": [
    "def labelling(x,centroids):\n",
    "    '''x: a data point\n",
    "       centroids: a matrix of centroids\n",
    "       return the label (a number between 0 and number_of_clusters-1) to which the point x belongs.'''\n",
    "    distances = {}\n",
    "    for i in range(len(centroids)):\n",
    "        distances[computeDistance(x,centroids[i,:])] = i\n",
    "    return distances[min(distances.keys())]"
   ]
  },
  {
   "cell_type": "code",
   "execution_count": 21,
   "metadata": {},
   "outputs": [
    {
     "name": "stdout",
     "output_type": "stream",
     "text": [
      "2\n"
     ]
    }
   ],
   "source": [
    "tempCentroids = np.matrix([[5,6],[6,9],[4,4]])\n",
    "print(labelling(np.matrix([3,2]),tempCentroids))"
   ]
  },
  {
   "cell_type": "markdown",
   "metadata": {},
   "source": [
    "Now let us assign centroids for all data samples. <br>\n",
    "(Call the above labelling function to all data samples)"
   ]
  },
  {
   "cell_type": "code",
   "execution_count": 22,
   "metadata": {},
   "outputs": [],
   "source": [
    "def clusterAssignment(X,clusters,centroids):\n",
    "    '''X : Data matrix\n",
    "       clusters : A numpy array of size no_of_samples\n",
    "       centroids : A numpy array of size no_of_clusters'''\n",
    "    for i in range(len(X)):\n",
    "        clusters[i] = labelling(X[i,:],centroids)\n",
    "    return clusters"
   ]
  },
  {
   "cell_type": "markdown",
   "metadata": {},
   "source": [
    "We will now compute the mean of all the points(data samples) assigned to a particular centroid.<br> Then set that mean as our new Centroid."
   ]
  },
  {
   "cell_type": "code",
   "execution_count": 23,
   "metadata": {},
   "outputs": [],
   "source": [
    "def updateCentroid(X,clusters,centroids,nof):\n",
    "    '''X : data matrix\n",
    "       clusters: a numpy array where the value at ith index is the label of centroid to which ith data sample currently belongs.\n",
    "       centroids : matrix of centroids\n",
    "       nof: number of features\n",
    "       return updated centroids'''\n",
    "    sums = np.matrix(np.zeros(centroids.shape))\n",
    "    count = np.zeros(len(centroids),dtype=int)\n",
    "    newCentroids = np.matrix(np.zeros(centroids.shape))\n",
    "    for i in range(len(X)):\n",
    "        for j in range(nof):\n",
    "            sums[clusters[i],j]+=X[i,j]\n",
    "        count[clusters[i]]+=1\n",
    "    for i in range(len(centroids)):\n",
    "        newCentroids[i,:] = sums[i,:]/count[i]\n",
    "    return newCentroids\n"
   ]
  },
  {
   "cell_type": "markdown",
   "metadata": {},
   "source": [
    "Now let us devise _K-Means_ Algorithm by making use of above methods.<br>\n",
    "Do th following steps until convergence or for specified number of iterations.<br>\n",
    "1. Cluster Assignment : Assign every point to its nearest centroid (_clusterAssignment_ function).\n",
    "2. Update the Centroids : Compute the mean of each cluster and update it as the new centroid. (_updateCentroid_ function).\n"
   ]
  },
  {
   "cell_type": "code",
   "execution_count": 24,
   "metadata": {},
   "outputs": [],
   "source": [
    "def kmeans_call(X,clusters,centroids,iterations,nof):\n",
    "    '''Run the specified steps 'iterations' times '''\n",
    "    for i in range(iterations):\n",
    "        clusters = clusterAssignment(X,clusters,centroids)\n",
    "        new_centroids = updateCentroid(X,clusters,centroids,nof)     \n",
    "        centroids = new_centroids\n",
    "    return centroids,clusters"
   ]
  },
  {
   "cell_type": "markdown",
   "metadata": {},
   "source": [
    "Now let us plot the clustered samples."
   ]
  },
  {
   "cell_type": "code",
   "execution_count": 25,
   "metadata": {},
   "outputs": [],
   "source": [
    "def plotCentroids(Centroids):\n",
    "    '''Plot the converged Centroids (yellow color)'''\n",
    "    color = 'y'\n",
    "    for i in range(len(Centroids)):\n",
    "        plt.scatter(Centroids[i,0],Centroids[i,1],c=color)\n",
    "\n",
    "def plotClusters(Centroids,Clusters,X):\n",
    "    '''Plot the data samples with different colors for different clusters'''\n",
    "    colors = ['r','g','b','cyan']\n",
    "    plt.figure()\n",
    "    for i in range(len(Clusters)):\n",
    "        plt.scatter(X[i,0],X[i,1],c = colors[Clusters[i]])\n",
    "    plotCentroids(Centroids)\n",
    "    plt.show()"
   ]
  },
  {
   "cell_type": "markdown",
   "metadata": {},
   "source": [
    "Call the kmeans method and plot the samples."
   ]
  },
  {
   "cell_type": "code",
   "execution_count": 30,
   "metadata": {},
   "outputs": [
    {
     "data": {
      "image/png": "[encoded data removed]",
      "text/plain": [
       "<Figure size 432x288 with 1 Axes>"
      ]
     },
     "metadata": {
      "needs_background": "light"
     },
     "output_type": "display_data"
    }
   ],
   "source": [
    "number_of_samples = 200  \n",
    "number_of_clusters = 3\n",
    "number_of_iterations = 100\n",
    "number_of_features = 2\n",
    "centroids = randomInit(X,number_of_clusters,number_of_samples,number_of_features) \n",
    "clusters = np.zeros(len(X),dtype=int)\n",
    "(finalCentroids,finalClusters) = kmeans_call(X,clusters,centroids,number_of_iterations,number_of_features)\n",
    "plotClusters(finalCentroids,finalClusters,X)"
   ]
  },
  {
   "cell_type": "code",
   "execution_count": null,
   "metadata": {},
   "outputs": [],
   "source": []
  }
 ],
 "metadata": {
  "kernelspec": {
   "display_name": "Python 3",
   "language": "python",
   "name": "python3"
  },
  "language_info": {
   "codemirror_mode": {
    "name": "ipython",
    "version": 3
   },
   "file_extension": ".py",
   "mimetype": "text/x-python",
   "name": "python",
   "nbconvert_exporter": "python",
   "pygments_lexer": "ipython3",
   "version": "3.7.1"
  }
 },
 "nbformat": 4,
 "nbformat_minor": 2
}
